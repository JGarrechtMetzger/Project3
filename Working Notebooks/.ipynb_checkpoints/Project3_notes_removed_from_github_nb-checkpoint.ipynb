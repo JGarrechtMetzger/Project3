{
 "cells": [
  {
   "cell_type": "code",
   "execution_count": null,
   "id": "metallic-wireless",
   "metadata": {
    "run_control": {
     "marked": true
    }
   },
   "outputs": [],
   "source": [
    "knn = KNeighborsClassifier(n_neighbors=219)\n",
    "knn.fit(X_train, y_train)\n",
    "print(\"The accuracy score for kNN is\")\n",
    "print(\"Training: {:6.2f}%\".format(100*knn.score(X_train, y_train)))\n",
    "print(\"Test set: {:6.2f}%\".format(100*knn.score(X_test, y_test)))"
   ]
  },
  {
   "cell_type": "markdown",
   "id": "powered-ballot",
   "metadata": {},
   "source": [
    "From talking with Brian:\n",
    "\n",
    "**THE Test score IS the ERROR score!** (well, error = 100-test)\n",
    "You don't worry about the training score.  It's just about the aboslute value of the test score.  So make a plot to heuristically justificy the hyparameter value choice (here, the hyparameter is k) of error vs hyperparameter value (so 100-teset score v k)."
   ]
  },
  {
   "cell_type": "markdown",
   "id": "extraordinary-hydrogen",
   "metadata": {},
   "source": [
    "k_range = range(1, 101)\n",
    "scores = []\n",
    "for k in k_range:\n",
    "    model = KNN(k=k)\n",
    "    model.fit(X_train)\n",
    "    pred = model.predict(X_val)\n",
    "    accuracy = score(y_val, pred)\n",
    "    score.append(accuracy)\n",
    "k_scores = list(zip(scores, k_range))\n",
    "max(k_scores)"
   ]
  },
  {
   "cell_type": "code",
   "execution_count": null,
   "id": "whole-omaha",
   "metadata": {},
   "outputs": [],
   "source": [
    "* Precision = TP / (TP + FP)\n",
    "* Recall = TP/P = True positive rate\n",
    "* false positive rate = FP / true negatives = FP / (FP + TN) "
   ]
  }
 ],
 "metadata": {
  "kernelspec": {
   "display_name": "Python 3",
   "language": "python",
   "name": "python3"
  },
  "language_info": {
   "codemirror_mode": {
    "name": "ipython",
    "version": 3
   },
   "file_extension": ".py",
   "mimetype": "text/x-python",
   "name": "python",
   "nbconvert_exporter": "python",
   "pygments_lexer": "ipython3",
   "version": "3.8.5"
  },
  "toc": {
   "base_numbering": 1,
   "nav_menu": {},
   "number_sections": true,
   "sideBar": true,
   "skip_h1_title": false,
   "title_cell": "Table of Contents",
   "title_sidebar": "Contents",
   "toc_cell": false,
   "toc_position": {},
   "toc_section_display": true,
   "toc_window_display": false
  }
 },
 "nbformat": 4,
 "nbformat_minor": 5
}
