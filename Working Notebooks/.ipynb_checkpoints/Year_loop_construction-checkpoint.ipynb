{
 "cells": [
  {
   "cell_type": "code",
   "execution_count": 1,
   "id": "micro-expert",
   "metadata": {
    "ExecuteTime": {
     "end_time": "2021-02-14T19:28:41.763329Z",
     "start_time": "2021-02-14T19:28:41.757676Z"
    }
   },
   "outputs": [],
   "source": [
    "start_season = '1986-87'\n",
    "list1=start_season.split('-')"
   ]
  },
  {
   "cell_type": "code",
   "execution_count": 2,
   "id": "tracked-recording",
   "metadata": {
    "ExecuteTime": {
     "end_time": "2021-02-14T19:28:45.867361Z",
     "start_time": "2021-02-14T19:28:45.862210Z"
    }
   },
   "outputs": [],
   "source": [
    "first_part=int(list1[0])+1"
   ]
  },
  {
   "cell_type": "code",
   "execution_count": 3,
   "id": "informal-volume",
   "metadata": {
    "ExecuteTime": {
     "end_time": "2021-02-14T19:28:49.631732Z",
     "start_time": "2021-02-14T19:28:49.618248Z"
    }
   },
   "outputs": [
    {
     "data": {
      "text/plain": [
       "1987"
      ]
     },
     "execution_count": 3,
     "metadata": {},
     "output_type": "execute_result"
    }
   ],
   "source": [
    "first_part"
   ]
  },
  {
   "cell_type": "code",
   "execution_count": 4,
   "id": "sunrise-needle",
   "metadata": {
    "ExecuteTime": {
     "end_time": "2021-02-14T19:28:54.147188Z",
     "start_time": "2021-02-14T19:28:54.141381Z"
    }
   },
   "outputs": [],
   "source": [
    "second_part=int(list1[1])+1"
   ]
  },
  {
   "cell_type": "code",
   "execution_count": 5,
   "id": "instant-clearing",
   "metadata": {
    "ExecuteTime": {
     "end_time": "2021-02-14T19:28:58.152349Z",
     "start_time": "2021-02-14T19:28:58.145354Z"
    }
   },
   "outputs": [
    {
     "data": {
      "text/plain": [
       "int"
      ]
     },
     "execution_count": 5,
     "metadata": {},
     "output_type": "execute_result"
    }
   ],
   "source": [
    "type(second_part)"
   ]
  },
  {
   "cell_type": "code",
   "execution_count": 6,
   "id": "answering-mentor",
   "metadata": {
    "ExecuteTime": {
     "end_time": "2021-02-14T19:29:07.863197Z",
     "start_time": "2021-02-14T19:29:07.857835Z"
    }
   },
   "outputs": [],
   "source": [
    "season_loop='-'.join([str(first_part), str(second_part)])"
   ]
  },
  {
   "cell_type": "code",
   "execution_count": 7,
   "id": "separate-excerpt",
   "metadata": {
    "ExecuteTime": {
     "end_time": "2021-02-14T19:29:13.205675Z",
     "start_time": "2021-02-14T19:29:13.199710Z"
    }
   },
   "outputs": [
    {
     "data": {
      "text/plain": [
       "'1987-88'"
      ]
     },
     "execution_count": 7,
     "metadata": {},
     "output_type": "execute_result"
    }
   ],
   "source": [
    "season_loop"
   ]
  },
  {
   "cell_type": "code",
   "execution_count": null,
   "id": "united-iceland",
   "metadata": {},
   "outputs": [],
   "source": []
  }
 ],
 "metadata": {
  "kernelspec": {
   "display_name": "Python 3",
   "language": "python",
   "name": "python3"
  },
  "language_info": {
   "codemirror_mode": {
    "name": "ipython",
    "version": 3
   },
   "file_extension": ".py",
   "mimetype": "text/x-python",
   "name": "python",
   "nbconvert_exporter": "python",
   "pygments_lexer": "ipython3",
   "version": "3.8.5"
  },
  "toc": {
   "base_numbering": 1,
   "nav_menu": {},
   "number_sections": true,
   "sideBar": true,
   "skip_h1_title": false,
   "title_cell": "Table of Contents",
   "title_sidebar": "Contents",
   "toc_cell": false,
   "toc_position": {},
   "toc_section_display": true,
   "toc_window_display": false
  }
 },
 "nbformat": 4,
 "nbformat_minor": 5
}
