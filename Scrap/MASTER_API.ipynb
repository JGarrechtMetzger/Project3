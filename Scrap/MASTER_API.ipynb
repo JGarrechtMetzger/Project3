{
 "cells": [
  {
   "cell_type": "code",
   "execution_count": 9,
   "id": "rational-victoria",
   "metadata": {
    "ExecuteTime": {
     "end_time": "2021-01-29T18:01:04.303239Z",
     "start_time": "2021-01-29T18:01:04.165134Z"
    }
   },
   "outputs": [],
   "source": [
    "from nba_api.stats.endpoints._base import Endpoint\n",
    "from nba_api.stats.library.http import NBAStatsHTTP\n",
    "from nba_api.stats.library.parameters import LastNGames, MeasureTypeDetailedDefense, Month, PaceAdjust, PerModeDetailed, Period, PlusMinus, Rank, Season, SeasonTypeAllStar, ConferenceNullable, DivisionSimpleNullable, GameScopeSimpleNullable, GameSegmentNullable, LeagueIDNullable, LocationNullable, OutcomeNullable, PlayerExperienceNullable, PlayerPositionAbbreviationNullable, SeasonSegmentNullable, ShotClockRangeNullable, StarterBenchNullable, DivisionNullable\n",
    "\n",
    "\n",
    "class LeagueDashTeamStats(Endpoint):\n",
    "    endpoint = 'leaguedashteamstats'\n",
    "    expected_data = {'LeagueDashTeamStats': ['TEAM_ID', 'TEAM_NAME', 'GP', 'W', 'L', 'W_PCT', 'MIN', 'FGM', 'FGA', 'FG_PCT', 'FG3M', 'FG3A', 'FG3_PCT', 'FTM', 'FTA', 'FT_PCT', 'OREB', 'DREB', 'REB', 'AST', 'TOV', 'STL', 'BLK', 'BLKA', 'PF', 'PFD', 'PTS', 'PLUS_MINUS', 'GP_RANK', 'W_RANK', 'L_RANK', 'W_PCT_RANK', 'MIN_RANK', 'FGM_RANK', 'FGA_RANK', 'FG_PCT_RANK', 'FG3M_RANK', 'FG3A_RANK', 'FG3_PCT_RANK', 'FTM_RANK', 'FTA_RANK', 'FT_PCT_RANK', 'OREB_RANK', 'DREB_RANK', 'REB_RANK', 'AST_RANK', 'TOV_RANK', 'STL_RANK', 'BLK_RANK', 'BLKA_RANK', 'PF_RANK', 'PFD_RANK', 'PTS_RANK', 'PLUS_MINUS_RANK', 'CFID', 'CFPARAMS']}\n",
    "\n",
    "    nba_response = None\n",
    "    data_sets = None\n",
    "    player_stats = None\n",
    "    team_stats = None\n",
    "    headers = None\n",
    "\n",
    "    def __init__(self,\n",
    "                 last_n_games=LastNGames.default,\n",
    "                 measure_type_detailed_defense=MeasureTypeDetailedDefense.default,\n",
    "                 month=Month.default,\n",
    "                 opponent_team_id=0,\n",
    "                 pace_adjust=PaceAdjust.default,\n",
    "                 per_mode_detailed=PerModeDetailed.default,\n",
    "                 period=Period.default,\n",
    "                 plus_minus=PlusMinus.default,\n",
    "                 rank=Rank.default,\n",
    "                 season=Season.default,\n",
    "                 season_type_all_star=SeasonTypeAllStar.default,\n",
    "                 conference_nullable=ConferenceNullable.default,\n",
    "                 date_from_nullable='',\n",
    "                 date_to_nullable='',\n",
    "                 division_simple_nullable=DivisionSimpleNullable.default,\n",
    "                 game_scope_simple_nullable=GameScopeSimpleNullable.default,\n",
    "                 game_segment_nullable=GameSegmentNullable.default,\n",
    "                 league_id_nullable=LeagueIDNullable.default,\n",
    "                 location_nullable=LocationNullable.default,\n",
    "                 outcome_nullable=OutcomeNullable.default,\n",
    "                 po_round_nullable='',\n",
    "                 player_experience_nullable=PlayerExperienceNullable.default,\n",
    "                 player_position_abbreviation_nullable=PlayerPositionAbbreviationNullable.default,\n",
    "                 season_segment_nullable=SeasonSegmentNullable.default,\n",
    "                 shot_clock_range_nullable=ShotClockRangeNullable.default,\n",
    "                 starter_bench_nullable=StarterBenchNullable.default,\n",
    "                 team_id_nullable='',\n",
    "                 two_way_nullable='',\n",
    "                 vs_conference_nullable=ConferenceNullable.default,\n",
    "                 vs_division_nullable=DivisionNullable.default,\n",
    "                 proxy=None,\n",
    "                 headers=None,\n",
    "                 timeout=30,\n",
    "                 get_request=True):\n",
    "        self.proxy = proxy\n",
    "        if headers is not None:\n",
    "            self.headers = headers\n",
    "        self.timeout = timeout\n",
    "        self.parameters = {\n",
    "                'LastNGames': last_n_games,\n",
    "                'MeasureType': measure_type_detailed_defense,\n",
    "                'Month': month,\n",
    "                'OpponentTeamID': opponent_team_id,\n",
    "                'PaceAdjust': pace_adjust,\n",
    "                'PerMode': per_mode_detailed,\n",
    "                'Period': period,\n",
    "                'PlusMinus': plus_minus,\n",
    "                'Rank': rank,\n",
    "                'Season': season,\n",
    "                'SeasonType': season_type_all_star,\n",
    "                'Conference': conference_nullable,\n",
    "                'DateFrom': date_from_nullable,\n",
    "                'DateTo': date_to_nullable,\n",
    "                'Division': division_simple_nullable,\n",
    "                'GameScope': game_scope_simple_nullable,\n",
    "                'GameSegment': game_segment_nullable,\n",
    "                'LeagueID': league_id_nullable,\n",
    "                'Location': location_nullable,\n",
    "                'Outcome': outcome_nullable,\n",
    "                'PORound': po_round_nullable,\n",
    "                'PlayerExperience': player_experience_nullable,\n",
    "                'PlayerPosition': player_position_abbreviation_nullable,\n",
    "                'SeasonSegment': season_segment_nullable,\n",
    "                'ShotClockRange': shot_clock_range_nullable,\n",
    "                'StarterBench': starter_bench_nullable,\n",
    "                'TeamID': team_id_nullable,\n",
    "                'TwoWay': two_way_nullable,\n",
    "                'VsConference': vs_conference_nullable,\n",
    "                'VsDivision': vs_division_nullable\n",
    "        }\n",
    "        if get_request:\n",
    "            self.get_request()\n",
    "    \n",
    "    def get_request(self):\n",
    "        self.nba_response = NBAStatsHTTP().send_api_request(\n",
    "            endpoint=self.endpoint,\n",
    "            parameters=self.parameters,\n",
    "            proxy=self.proxy,\n",
    "            headers=self.headers,\n",
    "            timeout=self.timeout,\n",
    "        )\n",
    "        self.load_response()\n",
    "        \n",
    "    def load_response(self):\n",
    "        data_sets = self.nba_response.get_data_sets()\n",
    "        self.data_sets = [Endpoint.DataSet(data=data_set) for data_set_name, data_set in data_sets.items()]\n",
    "        self.league_dash_team_stats = Endpoint.DataSet(data=data_sets['LeagueDashTeamStats'])"
   ]
  },
  {
   "cell_type": "code",
   "execution_count": 10,
   "id": "heavy-acting",
   "metadata": {
    "ExecuteTime": {
     "end_time": "2021-01-29T18:01:14.590957Z",
     "start_time": "2021-01-29T18:01:13.768757Z"
    }
   },
   "outputs": [],
   "source": [
    "a= LeagueDashTeamStats()"
   ]
  },
  {
   "cell_type": "code",
   "execution_count": 13,
   "id": "satisfied-irrigation",
   "metadata": {
    "ExecuteTime": {
     "end_time": "2021-01-29T18:02:58.421764Z",
     "start_time": "2021-01-29T18:02:58.379983Z"
    }
   },
   "outputs": [
    {
     "data": {
      "text/plain": [
       "{'LastNGames': '0',\n",
       " 'MeasureType': 'Base',\n",
       " 'Month': '0',\n",
       " 'OpponentTeamID': 0,\n",
       " 'PaceAdjust': 'N',\n",
       " 'PerMode': 'Totals',\n",
       " 'Period': '0',\n",
       " 'PlusMinus': 'N',\n",
       " 'Rank': 'N',\n",
       " 'Season': '2020-21',\n",
       " 'SeasonType': 'Regular Season',\n",
       " 'Conference': '',\n",
       " 'DateFrom': '',\n",
       " 'DateTo': '',\n",
       " 'Division': '',\n",
       " 'GameScope': '',\n",
       " 'GameSegment': '',\n",
       " 'LeagueID': '',\n",
       " 'Location': '',\n",
       " 'Outcome': '',\n",
       " 'PORound': '',\n",
       " 'PlayerExperience': '',\n",
       " 'PlayerPosition': '',\n",
       " 'SeasonSegment': '',\n",
       " 'ShotClockRange': '',\n",
       " 'StarterBench': '',\n",
       " 'TeamID': '',\n",
       " 'TwoWay': '',\n",
       " 'VsConference': '',\n",
       " 'VsDivision': ''}"
      ]
     },
     "execution_count": 13,
     "metadata": {},
     "output_type": "execute_result"
    }
   ],
   "source": [
    "a.parameters"
   ]
  },
  {
   "cell_type": "code",
   "execution_count": null,
   "id": "elect-plasma",
   "metadata": {},
   "outputs": [],
   "source": []
  }
 ],
 "metadata": {
  "kernelspec": {
   "display_name": "Python 3",
   "language": "python",
   "name": "python3"
  },
  "language_info": {
   "codemirror_mode": {
    "name": "ipython",
    "version": 3
   },
   "file_extension": ".py",
   "mimetype": "text/x-python",
   "name": "python",
   "nbconvert_exporter": "python",
   "pygments_lexer": "ipython3",
   "version": "3.8.5"
  },
  "toc": {
   "base_numbering": 1,
   "nav_menu": {},
   "number_sections": true,
   "sideBar": true,
   "skip_h1_title": false,
   "title_cell": "Table of Contents",
   "title_sidebar": "Contents",
   "toc_cell": false,
   "toc_position": {},
   "toc_section_display": true,
   "toc_window_display": false
  }
 },
 "nbformat": 4,
 "nbformat_minor": 5
}
