{
 "cells": [
  {
   "cell_type": "code",
   "execution_count": 1,
   "id": "marked-unknown",
   "metadata": {
    "ExecuteTime": {
     "end_time": "2021-01-30T22:41:45.315033Z",
     "start_time": "2021-01-30T22:41:43.170465Z"
    }
   },
   "outputs": [],
   "source": [
    "from nba_py import game"
   ]
  },
  {
   "cell_type": "code",
   "execution_count": 3,
   "id": "parental-happening",
   "metadata": {
    "ExecuteTime": {
     "end_time": "2021-01-30T22:47:01.606527Z",
     "start_time": "2021-01-30T22:47:01.492616Z"
    }
   },
   "outputs": [],
   "source": [
    "from nba_api.stats.static import teams"
   ]
  },
  {
   "cell_type": "code",
   "execution_count": 4,
   "id": "terminal-intermediate",
   "metadata": {
    "ExecuteTime": {
     "end_time": "2021-01-30T22:47:07.994094Z",
     "start_time": "2021-01-30T22:47:07.981466Z"
    },
    "scrolled": true
   },
   "outputs": [
    {
     "data": {
      "text/plain": [
       "{'id': 1610612739,\n",
       " 'full_name': 'Cleveland Cavaliers',\n",
       " 'abbreviation': 'CLE',\n",
       " 'nickname': 'Cavaliers',\n",
       " 'city': 'Cleveland',\n",
       " 'state': 'Ohio',\n",
       " 'year_founded': 1970}"
      ]
     },
     "execution_count": 4,
     "metadata": {},
     "output_type": "execute_result"
    }
   ],
   "source": [
    "teams.find_team_name_by_id(1610612739)"
   ]
  },
  {
   "cell_type": "code",
   "execution_count": null,
   "id": "governing-music",
   "metadata": {},
   "outputs": [],
   "source": []
  },
  {
   "cell_type": "code",
   "execution_count": null,
   "id": "covered-nurse",
   "metadata": {},
   "outputs": [],
   "source": []
  }
 ],
 "metadata": {
  "kernelspec": {
   "display_name": "Python 3",
   "language": "python",
   "name": "python3"
  },
  "language_info": {
   "codemirror_mode": {
    "name": "ipython",
    "version": 3
   },
   "file_extension": ".py",
   "mimetype": "text/x-python",
   "name": "python",
   "nbconvert_exporter": "python",
   "pygments_lexer": "ipython3",
   "version": "3.8.5"
  },
  "toc": {
   "base_numbering": 1,
   "nav_menu": {},
   "number_sections": true,
   "sideBar": true,
   "skip_h1_title": false,
   "title_cell": "Table of Contents",
   "title_sidebar": "Contents",
   "toc_cell": false,
   "toc_position": {},
   "toc_section_display": true,
   "toc_window_display": false
  }
 },
 "nbformat": 4,
 "nbformat_minor": 5
}
