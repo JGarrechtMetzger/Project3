{
 "cells": [
  {
   "cell_type": "markdown",
   "id": "incorporated-joint",
   "metadata": {},
   "source": [
    "## What data do I want?\n",
    "\n",
    "## Team Name\n",
    "* team_id\n",
    "    * its a numerphic only key\n",
    "    * it'll be listed like this: spurs = teamdashboardbygamesplits.TeamDashboardByGameSplits(team_id='1610612759')\n",
    "* TEAM_ABBREVIATION\n",
    "* \n"
   ]
  },
  {
   "cell_type": "markdown",
   "id": "cellular-schedule",
   "metadata": {},
   "source": [
    "# OTHER NOTES\n",
    "\n",
    "## Grouping the game by halves\n",
    "* so far I've found it here: from nba_api.stats.endpoints import teamdashboardbygamesplits\n",
    "* There are 4 data frames I can access(?) within this one data frame\n",
    "    spurs = teamdashboardbygamesplits.TeamDashboardByGameSplits(team_id='1610612759')\n",
    "spurs.get_data_frames()[1]\n",
    "* the [1] is the one with game splits by halves\n",
    "* [2] will tell you period\n",
    "* others don't really apply except maybe [0] is overall, but only for the current game.\n",
    "    * Maybe there is a optional argument to pass that lets you chooose games.\n",
    "## Grouping by Home and Road\n",
    "* TeamDashboardByGeneralSplits with [x]=1\n",
    "\n",
    "## Grouping Team for whole season\n",
    "* Use teamgamelog\n",
    "* Theres really only [1]\n",
    "* this one is updated seemingly in real time, but this doesn't really matter for this project\n"
   ]
  },
  {
   "cell_type": "markdown",
   "id": "mediterranean-hawaiian",
   "metadata": {},
   "source": [
    "# STRADEGIES\n",
    "## How to access data?\n",
    "* "
   ]
  },
  {
   "cell_type": "markdown",
   "id": "human-intention",
   "metadata": {},
   "source": [
    "# NOTES\n",
    "* Looking at the endpoint class explanations nad then I looked at the \"expected data\" and it looks like when you do the call or whatever 'career.get_data_frames()[0]' you'll actually get the last dictionary in the expected data list.  For example, for PlayerCareerStats there are 10 dictionaries so they go from 0-9 with 0 being the last in the list if you scroll right on \"expected data' on https://github.com/swar/nba_api/blob/master/nba_api/stats/endpoints/playercareerstats.py"
   ]
  },
  {
   "cell_type": "markdown",
   "id": "increased-bulgaria",
   "metadata": {},
   "source": [
    "# Target: TeamGameLogs as the endpoint.  This one looks like it has a section for \"GameSegment\" which is what I need to do first half shite."
   ]
  },
  {
   "cell_type": "markdown",
   "id": "cooked-transportation",
   "metadata": {},
   "source": [
    "# Got the basic scrape down\n",
    "\n",
    "Its \n",
    "\n",
    "from nba_api.stats.endpoints import teamgamelogs\n",
    "team = teamgamelogs.TeamGameLogs(season_nullable='2001-02', game_segment_nullable='First Half')\n",
    "a= team.get_data_frames()[0]\n",
    "\n",
    "* Single season\n",
    "* Every Team\n",
    "* Repeated matchups\n",
    "    * So, keep that in mind when data crunching.  Do. I need both?\n",
    "    "
   ]
  },
  {
   "cell_type": "code",
   "execution_count": null,
   "id": "thousand-offense",
   "metadata": {},
   "outputs": [],
   "source": []
  }
 ],
 "metadata": {
  "kernelspec": {
   "display_name": "Python 3",
   "language": "python",
   "name": "python3"
  },
  "language_info": {
   "codemirror_mode": {
    "name": "ipython",
    "version": 3
   },
   "file_extension": ".py",
   "mimetype": "text/x-python",
   "name": "python",
   "nbconvert_exporter": "python",
   "pygments_lexer": "ipython3",
   "version": "3.8.5"
  },
  "toc": {
   "base_numbering": 1,
   "nav_menu": {},
   "number_sections": true,
   "sideBar": true,
   "skip_h1_title": false,
   "title_cell": "Table of Contents",
   "title_sidebar": "Contents",
   "toc_cell": false,
   "toc_position": {},
   "toc_section_display": true,
   "toc_window_display": false
  }
 },
 "nbformat": 4,
 "nbformat_minor": 5
}
